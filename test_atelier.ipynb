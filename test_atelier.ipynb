{
 "cells": [
  {
   "cell_type": "markdown",
   "metadata": {},
   "source": [
    "## Independent Sample t-tests"
   ]
  },
  {
   "cell_type": "code",
   "execution_count": 1,
   "metadata": {},
   "outputs": [
    {
     "data": {
      "application/vnd.jupyter.widget-view+json": {
       "model_id": "49326b3217fc43c7a0d83ed858a18ffd",
       "version_major": 2,
       "version_minor": 0
      },
      "text/plain": [
       "interactive(children=(FloatSlider(value=0.0, description='Mean 1:', max=5.0, min=-5.0), FloatSlider(value=1.0,…"
      ]
     },
     "metadata": {},
     "output_type": "display_data"
    }
   ],
   "source": [
    "import numpy as np\n",
    "import matplotlib.pyplot as plt\n",
    "import scipy.stats as stats\n",
    "import ipywidgets as widgets\n",
    "from IPython.display import display\n",
    "\n",
    "# Function to create the combined visualization\n",
    "def combined_visualization(mean1=0, mean2=1, std1=1, std2=1, sample_size=30, alpha=0.05):\n",
    "    # Generate random samples\n",
    "    np.random.seed(2)\n",
    "    group1 = np.random.normal(mean1, std1, sample_size)\n",
    "    group2 = np.random.normal(mean2, std2, sample_size)\n",
    "\n",
    "    # Calculate effect size (Cohen's d)\n",
    "    pooled_std = np.sqrt(((std1**2) + (std2**2)) / 2)\n",
    "    cohen_d = (mean2 - mean1) / pooled_std\n",
    "\n",
    "    # Perform t-test\n",
    "    t_stat, p_value = stats.ttest_ind(group1, group2, equal_var=False)\n",
    "    df = (sample_size - 1) * 2  # Degrees of freedom approximation\n",
    "\n",
    "    # Create the figure\n",
    "    fig, axs = plt.subplots(2, 1, figsize=(12, 12), gridspec_kw={'height_ratios': [2, 1]})\n",
    "    \n",
    "    # Plot 1: Group Distributions and Effect Size\n",
    "    bins = np.linspace(\n",
    "        min(group1.min(), group2.min()), \n",
    "        max(group1.max(), group2.max()), \n",
    "        20\n",
    "    )\n",
    "    axs[0].hist(group1, bins=bins, alpha=0.7, label=f'Group 1 (Mean={mean1}, SD={std1})')\n",
    "    axs[0].hist(group2, bins=bins, alpha=0.7, label=f'Group 2 (Mean={mean2}, SD={std2})')\n",
    "    axs[0].axvline(mean1, color='blue', linestyle='--', label='Group 1 Mean')\n",
    "    axs[0].axvline(mean2, color='orange', linestyle='--', label='Group 2 Mean')\n",
    "    axs[0].text(\n",
    "        0.05, 0.95, f\"Cohen's d = {cohen_d:.2f}\", \n",
    "        transform=axs[0].transAxes, fontsize=12, verticalalignment='top'\n",
    "    )\n",
    "    axs[0].text(\n",
    "        0.05, 0.85, f\"P-value = {p_value:.4f} {'(Significant)' if p_value < alpha else '(Not Significant)'}\", \n",
    "        transform=axs[0].transAxes, fontsize=12, verticalalignment='top'\n",
    "    )\n",
    "    axs[0].set_title(f'Group Distributions and Effect Size\\nα = {alpha} | P-value = {p_value:.4f}')\n",
    "    axs[0].set_xlabel('Value')\n",
    "    axs[0].set_ylabel('Frequency')\n",
    "    axs[0].legend()\n",
    "    axs[0].grid()\n",
    "\n",
    "    # Plot 2: P-value on the T-distribution\n",
    "    t_values = np.linspace(-4, 4, 500)\n",
    "    t_dist = stats.t.pdf(t_values, df)\n",
    "    critical_value = stats.t.ppf(1 - alpha / 2, df)\n",
    "\n",
    "    axs[1].plot(t_values, t_dist, label='T-distribution', color='blue')\n",
    "    axs[1].fill_between(t_values, 0, t_dist, where=(t_values <= -critical_value) | (t_values >= critical_value), color='red', alpha=0.3, label='Critical Region (α)')\n",
    "    axs[1].axvline(t_stat, color='green', linestyle='--', label=f'T-statistic = {t_stat:.2f}')\n",
    "    axs[1].text(\n",
    "        t_stat, 0.02, f\"P-value = {p_value:.4f}\", color='green', fontsize=12, ha='center'\n",
    "    )\n",
    "    axs[1].set_title('T-distribution and P-value')\n",
    "    axs[1].set_xlabel('T-statistic')\n",
    "    axs[1].set_ylabel('Density')\n",
    "    axs[1].legend()\n",
    "    axs[1].grid()\n",
    "\n",
    "    plt.tight_layout()\n",
    "    plt.show()\n",
    "\n",
    "# Widgets\n",
    "mean1_slider = widgets.FloatSlider(value=0, min=-5, max=5, step=0.1, description='Mean 1:')\n",
    "mean2_slider = widgets.FloatSlider(value=1, min=-5, max=5, step=0.1, description='Mean 2:')\n",
    "std1_slider = widgets.FloatSlider(value=1, min=0.1, max=5, step=0.1, description='SD 1:')\n",
    "std2_slider = widgets.FloatSlider(value=1, min=0.1, max=5, step=0.1, description='SD 2:')\n",
    "sample_size_slider = widgets.IntSlider(value=30, min=5, max=100, step=1, description='Sample Size:')\n",
    "alpha_slider = widgets.FloatSlider(value=0.05, min=0.01, max=0.1, step=0.01, description='Alpha Level (α):')\n",
    "\n",
    "# Interactive display\n",
    "interactive_plot = widgets.interactive(\n",
    "    combined_visualization,\n",
    "    mean1=mean1_slider,\n",
    "    mean2=mean2_slider,\n",
    "    std1=std1_slider,\n",
    "    std2=std2_slider,\n",
    "    sample_size=sample_size_slider,\n",
    "    alpha=alpha_slider\n",
    ")\n",
    "\n",
    "display(interactive_plot)\n"
   ]
  }
 ],
 "metadata": {
  "kernelspec": {
   "display_name": "Python (venv)",
   "language": "python",
   "name": "venv"
  },
  "language_info": {
   "codemirror_mode": {
    "name": "ipython",
    "version": 3
   },
   "file_extension": ".py",
   "mimetype": "text/x-python",
   "name": "python",
   "nbconvert_exporter": "python",
   "pygments_lexer": "ipython3",
   "version": "3.11.5"
  }
 },
 "nbformat": 4,
 "nbformat_minor": 2
}
