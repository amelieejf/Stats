{
 "cells": [
  {
   "cell_type": "code",
   "execution_count": 2,
   "metadata": {},
   "outputs": [
    {
     "data": {
      "application/vnd.jupyter.widget-view+json": {
       "model_id": "b5846e39f91747538c8da486da13cbee",
       "version_major": 2,
       "version_minor": 0
      },
      "text/plain": [
       "interactive(children=(FloatSlider(value=5.0, description='MS Between', max=20.0, min=1.0, step=1.0), FloatSlid…"
      ]
     },
     "metadata": {},
     "output_type": "display_data"
    },
    {
     "data": {
      "text/plain": [
       "<function __main__.simulate_anova(ms_between, ms_within, mean_diff1, mean_diff2)>"
      ]
     },
     "execution_count": 2,
     "metadata": {},
     "output_type": "execute_result"
    }
   ],
   "source": [
    "import numpy as np\n",
    "import scipy.stats as stats\n",
    "import matplotlib.pyplot as plt\n",
    "from ipywidgets import interact, FloatSlider\n",
    "\n",
    "# Define color scheme for the beaches\n",
    "colors = ['#93c2d3', '#d5e2a1', '#f9dd61']\n",
    "\n",
    "# Function to simulate one-way ANOVA for oyster growth\n",
    "def simulate_anova(ms_between, ms_within, mean_diff1, mean_diff2):\n",
    "    np.random.seed(42)  # For reproducibility\n",
    "\n",
    "    # Generate random data for three beaches\n",
    "    beach_a = np.random.normal(0, np.sqrt(ms_within), 30)\n",
    "    beach_b = np.random.normal(mean_diff1 * np.sqrt(ms_between / 2), np.sqrt(ms_within), 30)\n",
    "    beach_c = np.random.normal(mean_diff2 * np.sqrt(ms_between / 2), np.sqrt(ms_within), 30)\n",
    "\n",
    "    # Combine data for the three beaches\n",
    "    data = [beach_a, beach_b, beach_c]\n",
    "\n",
    "    # Perform one-way ANOVA\n",
    "    f_stat, p_value = stats.f_oneway(*data)\n",
    "\n",
    "    # Visualize the data\n",
    "    plt.figure(figsize=(10, 6))\n",
    "    bplot = plt.boxplot(\n",
    "        data,\n",
    "        patch_artist=True,\n",
    "        notch=True,\n",
    "        boxprops=dict(facecolor=colors[0], color=colors[0]),\n",
    "        medianprops=dict(color='black'),\n",
    "        whiskerprops=dict(color=colors[0]),\n",
    "        capprops=dict(color=colors[0]),\n",
    "    )\n",
    "    \n",
    "    # Set individual colors for each box\n",
    "    for patch, color in zip(bplot['boxes'], colors):\n",
    "        patch.set_facecolor(color)\n",
    "\n",
    "    # Add title and labels\n",
    "    plt.title(f'Oyster Growth by Beach (One-Way ANOVA)\\nF-Statistic: {f_stat:.2f}, p-value: {p_value:.4f}')\n",
    "    plt.ylabel('Growth Rate (cm/day)')\n",
    "    plt.xlabel('Beaches')\n",
    "    plt.ylim(-10, 10)  # Fix the y-axis\n",
    "    plt.xticks([1, 2, 3], ['Beach A', 'Beach B', 'Beach C'])  # Beach labels\n",
    "    plt.grid(axis='y', linestyle='--', alpha=0.7)\n",
    "    plt.show()\n",
    "\n",
    "# Interactive widget to explore parameters\n",
    "interact(\n",
    "    simulate_anova,\n",
    "    ms_between=FloatSlider(value=5, min=1, max=20, step=1, description='MS Between'),\n",
    "    ms_within=FloatSlider(value=2, min=1, max=10, step=1, description='MS Within'),\n",
    "    mean_diff1=FloatSlider(value=1, min=0, max=5, step=0.25, description='Mean Diff (Beach B)'),\n",
    "    mean_diff2=FloatSlider(value=2, min=0, max=5, step=0.25, description='Mean Diff (Beach C)')\n",
    ")\n"
   ]
  }
 ],
 "metadata": {
  "kernelspec": {
   "display_name": "Python (venv)",
   "language": "python",
   "name": "venv"
  },
  "language_info": {
   "codemirror_mode": {
    "name": "ipython",
    "version": 3
   },
   "file_extension": ".py",
   "mimetype": "text/x-python",
   "name": "python",
   "nbconvert_exporter": "python",
   "pygments_lexer": "ipython3",
   "version": "3.11.5"
  }
 },
 "nbformat": 4,
 "nbformat_minor": 2
}
