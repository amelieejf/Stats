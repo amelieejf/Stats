{
 "cells": [
  {
   "cell_type": "code",
   "execution_count": 10,
   "metadata": {},
   "outputs": [
    {
     "data": {
      "application/vnd.jupyter.widget-view+json": {
       "model_id": "a43d685456fe4a5ca2e73d3dbee7e62e",
       "version_major": 2,
       "version_minor": 0
      },
      "text/plain": [
       "interactive(children=(FloatSlider(value=0.8, description='Power:', max=0.99, min=0.5, step=0.01), FloatSlider(…"
      ]
     },
     "metadata": {},
     "output_type": "display_data"
    },
    {
     "data": {
      "text/plain": [
       "<function __main__.plot_sample_size_fixed_scale(power, alpha)>"
      ]
     },
     "execution_count": 10,
     "metadata": {},
     "output_type": "execute_result"
    }
   ],
   "source": [
    "import matplotlib.pyplot as plt\n",
    "import numpy as np\n",
    "from ipywidgets import interact, FloatSlider\n",
    "\n",
    "# Function to calculate sample size based on desired power and alpha\n",
    "def plot_sample_size_fixed_scale(power, alpha):\n",
    "    from scipy.stats import norm\n",
    "    \n",
    "    # Biomarkers and their effect sizes\n",
    "    biomarkers = [\"hsa-miR-483-5p (0.29)\", \"hsa-miR-320d (0.61)\", \"hsa-miR-200c-3p (0.96)\"]\n",
    "    effect_sizes = [0.29, 0.61, 0.96]\n",
    "\n",
    "    # Calculate sample sizes\n",
    "    sample_sizes = []\n",
    "    for effect_size in effect_sizes:\n",
    "        z_alpha = norm.ppf(1 - alpha / 2)  # z critical for two-tailed alpha\n",
    "        z_beta = norm.ppf(power)          # z critical for power\n",
    "        sample_size = ((z_alpha + z_beta)**2 * 2) / (effect_size**2)\n",
    "        sample_sizes.append(np.ceil(sample_size))  # Round up\n",
    "\n",
    "    # Create the bar plot\n",
    "    plt.figure(figsize=(10, 6))\n",
    "    bars = plt.bar(biomarkers, sample_sizes, color='skyblue', alpha=0.8, edgecolor='black')\n",
    "    \n",
    "    # Annotate bars with sample size\n",
    "    for bar, size in zip(bars, sample_sizes):\n",
    "        plt.text(bar.get_x() + bar.get_width() / 2, bar.get_height() + 5, int(size), ha='center', fontsize=12)\n",
    "    \n",
    "    # Set fixed y-axis scale\n",
    "    plt.ylim(0, 200)\n",
    "    \n",
    "    # Add labels and title\n",
    "    plt.ylabel('Sample Size per Group', fontsize=12)\n",
    "    plt.xlabel('Biomarkers (Effect Sizes)', fontsize=12)\n",
    "    plt.title(f'Sample Size Calculation for T-Test\\nPower = {power}, Alpha = {alpha}', fontsize=14)\n",
    "    plt.grid(axis='y', alpha=0.5)\n",
    "    plt.tight_layout()\n",
    "    plt.show()\n",
    "\n",
    "# Interactive widget for power and alpha\n",
    "interact(\n",
    "    plot_sample_size_fixed_scale,\n",
    "    power=FloatSlider(value=0.8, min=0.5, max=0.99, step=0.01, description='Power:'),\n",
    "    alpha=FloatSlider(value=0.05, min=0.01, max=0.1, step=0.01, description='Alpha:')\n",
    ")\n"
   ]
  }
 ],
 "metadata": {
  "kernelspec": {
   "display_name": "Python (venv)",
   "language": "python",
   "name": "venv"
  },
  "language_info": {
   "codemirror_mode": {
    "name": "ipython",
    "version": 3
   },
   "file_extension": ".py",
   "mimetype": "text/x-python",
   "name": "python",
   "nbconvert_exporter": "python",
   "pygments_lexer": "ipython3",
   "version": "3.11.5"
  }
 },
 "nbformat": 4,
 "nbformat_minor": 2
}
