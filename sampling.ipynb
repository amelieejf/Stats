{
 "cells": [
  {
   "cell_type": "markdown",
   "metadata": {},
   "source": [
    "## Question: combien d'échantillons avont-nous besoin si xxx?"
   ]
  },
  {
   "cell_type": "code",
   "execution_count": null,
   "metadata": {},
   "outputs": [],
   "source": [
    "import numpy as np\n",
    "import matplotlib.pyplot as plt\n",
    "import ipywidgets as widgets\n",
    "from IPython.display import display, HTML\n",
    "\n",
    "# Function to calculate sample size\n",
    "def calculate_sample_size(proportion, z, margin_of_error):\n",
    "    return np.ceil((z**2 * proportion * (1 - proportion)) / (margin_of_error**2))\n",
    "\n",
    "# Function to update the plot and display the sample size\n",
    "def update_plot(proportion=0.5, confidence_level=95, margin_of_error=0.05, total_population=1000):\n",
    "    z_scores = {90: 1.645, 95: 1.96, 99: 2.576}\n",
    "    z = z_scores[confidence_level]\n",
    "    sample_size = calculate_sample_size(proportion, z, margin_of_error)\n",
    "    sample_size = min(sample_size, total_population)  # Adjust for finite population\n",
    "    \n",
    "    # Generate population data\n",
    "    x = np.linspace(0.01, 0.99, 100)\n",
    "    y_sample = [calculate_sample_size(px, z, margin_of_error) for px in x]\n",
    "    y_sample = [min(n, total_population) for n in y_sample]  # Adjust for total population\n",
    "\n",
    "    # Plot population and sample size\n",
    "    plt.figure(figsize=(10, 6))\n",
    "    plt.plot(x, y_sample, label='Sample Size vs. Proportion', color='blue')\n",
    "    plt.axvline(proportion, color='red', linestyle='--', label=f'Selected Proportion: {proportion}')\n",
    "    plt.axhline(sample_size, color='green', linestyle='--', label=f'Calculated Sample Size: {sample_size}')\n",
    "    plt.title(f'Sample Size and Total Population\\nConfidence Level: {confidence_level}%, Margin of Error: {margin_of_error}')\n",
    "    plt.xlabel('Proportion (p)')\n",
    "    plt.ylabel('Sample Size (n)')\n",
    "    plt.grid()\n",
    "    plt.legend(loc='upper right')\n",
    "\n",
    "    # Add total population for context\n",
    "    plt.fill_between(x, y_sample, total_population, color='gray', alpha=0.2, label='Remaining Population')\n",
    "    plt.legend()\n",
    "    plt.show()\n",
    "\n",
    "    # Update the output widget with the sample size using HTML for larger font\n",
    "    sample_size_output.clear_output()\n",
    "    with sample_size_output:\n",
    "        display(HTML(f\"<h2 style='font-size: 36px;'>Sample Size Needed: {int(sample_size)}</h2>\"))\n",
    "\n",
    "# Widgets for interactivity\n",
    "proportion_slider = widgets.FloatSlider(value=0.5, min=0.01, max=0.99, step=0.01, description='Proportion (p):')\n",
    "confidence_level_slider = widgets.IntSlider(value=95, min=90, max=99, step=1, description='Confidence Level:')\n",
    "margin_of_error_slider = widgets.FloatSlider(value=0.05, min=0.01, max=0.1, step=0.01, description='Margin of Error:')\n",
    "total_population_slider = widgets.IntSlider(value=1000, min=100, max=10000, step=100, description='Total Population:')\n",
    "\n",
    "# Create the output widget for sample size display\n",
    "sample_size_output = widgets.Output()\n",
    "\n",
    "# Interactive widget display\n",
    "interactive_plot = widgets.interactive(\n",
    "    update_plot,\n",
    "    proportion=proportion_slider,\n",
    "    confidence_level=confidence_level_slider,\n",
    "    margin_of_error=margin_of_error_slider,\n",
    "    total_population=total_population_slider\n",
    ")\n",
    "\n",
    "# Display the widgets and the output window\n",
    "display(widgets.VBox([interactive_plot, sample_size_output]))\n"
   ]
  }
 ],
 "metadata": {
  "language_info": {
   "name": "python"
  }
 },
 "nbformat": 4,
 "nbformat_minor": 2
}
